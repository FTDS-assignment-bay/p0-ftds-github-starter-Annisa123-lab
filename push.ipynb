{
 "cells": [
  {
   "cell_type": "markdown",
   "id": "77a77768",
   "metadata": {},
   "source": [
    "### cara agar enter baris baru, bukan lanjut baris ###  \n",
    "\n",
    "Name: Annisa  \n",
    "Batch: 047  \n",
    "\n",
    "Problem statement: Banyak Student yang belum tau cara ini<br/>\n",
    "Objektif: Belajar cara menulis markdown dan push yang baik dan benar :)"
   ]
  },
  {
   "cell_type": "markdown",
   "id": "d3d2512f",
   "metadata": {},
   "source": [
    "# Push Yuk\n",
    "*--*\n"
   ]
  },
  {
   "cell_type": "markdown",
   "id": "db0afa48",
   "metadata": {},
   "source": [
    "`*...*` => *ini italic*<br/>\n",
    "`**...**` => **ini bold**  \n",
    "`***...***` => ***ini bold italic***  \n"
   ]
  },
  {
   "cell_type": "markdown",
   "id": "edd78d8f",
   "metadata": {},
   "source": [
    "1. `git clone <link ssh>` -> untuk meng'download' repo tugas\n",
    "2. `cd <ke repo lokal>` -> untuk pindah folder ke repo lokal\n",
    "3. Buat file assignment ATAU pindahkan file assignment ke dalam repo lokal\n",
    "4. `git status` -> untuk cek file baru di repo lokal sudah terdeteksi (harusnya warna merah)\n",
    "5. `git add .` -> untuk memasukan file baru tsb ke stage mode\n",
    "6. `git status` -> untuk cek file baru tsb yg sdh di stage mode (harusnya warna hijau)\n",
    "7. `git commit -m <message nya apa?>` -> untuk memberi keterangan push\n",
    "8. `git push` -> untuk 'upload' file ke repository gitclassroom.\n",
    "9. Cek lagi file di repo git, sudah sesuai dgn yg kita buat atau belum?"
   ]
  }
 ],
 "metadata": {
  "kernelspec": {
   "display_name": "base",
   "language": "python",
   "name": "python3"
  },
  "language_info": {
   "name": "python",
   "version": "3.13.5"
  }
 },
 "nbformat": 4,
 "nbformat_minor": 5
}
